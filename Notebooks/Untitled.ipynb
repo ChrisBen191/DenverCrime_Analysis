{
 "cells": [
  {
   "cell_type": "code",
   "execution_count": 1,
   "metadata": {},
   "outputs": [],
   "source": [
    "import pandas as pd\n",
    "import numpy as np\n",
    "\n",
    "import matplotlib.pyplot as plt\n",
    "import seaborn as sns"
   ]
  },
  {
   "cell_type": "code",
   "execution_count": 2,
   "metadata": {},
   "outputs": [
    {
     "name": "stdout",
     "output_type": "stream",
     "text": [
      "<class 'pandas.core.frame.DataFrame'>\n",
      "RangeIndex: 495746 entries, 0 to 495745\n",
      "Data columns (total 13 columns):\n",
      " #   Column                  Non-Null Count   Dtype \n",
      "---  ------                  --------------   ----- \n",
      " 0   INCIDENT_ID             495746 non-null  int64 \n",
      " 1   OFFENSE_ID              495746 non-null  int64 \n",
      " 2   OFFENSE_CODE            495746 non-null  int64 \n",
      " 3   OFFENSE_CODE_EXTENSION  495746 non-null  int64 \n",
      " 4   OFFENSE_TYPE_ID         495746 non-null  object\n",
      " 5   OFFENSE_CATEGORY_ID     495746 non-null  object\n",
      " 6   FIRST_OCCURRENCE_DATE   495746 non-null  object\n",
      " 7   REPORTED_DATE           495746 non-null  object\n",
      " 8   DISTRICT_ID             495746 non-null  int64 \n",
      " 9   PRECINCT_ID             495746 non-null  int64 \n",
      " 10  NEIGHBORHOOD_ID         495746 non-null  object\n",
      " 11  IS_CRIME                495746 non-null  bool  \n",
      " 12  IS_TRAFFIC              495746 non-null  bool  \n",
      "dtypes: bool(2), int64(6), object(5)\n",
      "memory usage: 42.6+ MB\n",
      "None\n"
     ]
    }
   ],
   "source": [
    "crime_df = pd.read_csv('../data/Clean/crime_info.csv')\n",
    "\n",
    "print(crime_df.info())"
   ]
  },
  {
   "cell_type": "code",
   "execution_count": 3,
   "metadata": {},
   "outputs": [
    {
     "data": {
      "text/plain": [
       "OFFENSE_ID                495746\n",
       "INCIDENT_ID               459954\n",
       "REPORTED_DATE             417502\n",
       "FIRST_OCCURRENCE_DATE     331552\n",
       "OFFENSE_TYPE_ID              200\n",
       "OFFENSE_CODE                 155\n",
       "NEIGHBORHOOD_ID               78\n",
       "PRECINCT_ID                   36\n",
       "OFFENSE_CATEGORY_ID           15\n",
       "DISTRICT_ID                    7\n",
       "OFFENSE_CODE_EXTENSION         6\n",
       "IS_TRAFFIC                     2\n",
       "IS_CRIME                       2\n",
       "dtype: int64"
      ]
     },
     "execution_count": 3,
     "metadata": {},
     "output_type": "execute_result"
    }
   ],
   "source": [
    "crime_df.nunique().sort_values(ascending=False)"
   ]
  },
  {
   "cell_type": "code",
   "execution_count": 4,
   "metadata": {},
   "outputs": [
    {
     "data": {
      "text/plain": [
       "NEIGHBORHOOD_ID\n",
       "ATHMAR-PARK       6715\n",
       "AURARIA           4976\n",
       "BAKER            13026\n",
       "BARNUM            5593\n",
       "BARNUM-WEST       3065\n",
       "                 ...  \n",
       "WEST-COLFAX      10157\n",
       "WEST-HIGHLAND     4633\n",
       "WESTWOOD         11604\n",
       "WHITTIER          2908\n",
       "WINDSOR           3762\n",
       "Name: OFFENSE_ID, Length: 78, dtype: int64"
      ]
     },
     "execution_count": 4,
     "metadata": {},
     "output_type": "execute_result"
    }
   ],
   "source": [
    "crime_df.groupby('NEIGHBORHOOD_ID')['OFFENSE_ID'].count()"
   ]
  },
  {
   "cell_type": "code",
   "execution_count": 5,
   "metadata": {},
   "outputs": [
    {
     "data": {
      "text/plain": [
       "OFFENSE_CATEGORY_ID           IS_CRIME\n",
       "TRAFFIC-ACCIDENT              False       126071\n",
       "ALL-OTHER-CRIMES              True         88395\n",
       "PUBLIC-DISORDER               True         50791\n",
       "LARCENY                       True         50489\n",
       "THEFT-FROM-MOTOR-VEHICLE      True         40636\n",
       "DRUG-ALCOHOL                  True         30650\n",
       "AUTO-THEFT                    True         28590\n",
       "OTHER-CRIMES-AGAINST-PERSONS  True         24510\n",
       "BURGLARY                      True         24491\n",
       "AGGRAVATED-ASSAULT            True         12506\n",
       "WHITE-COLLAR-CRIME            True          6932\n",
       "ROBBERY                       True          6440\n",
       "SEXUAL-ASSAULT                True          4293\n",
       "ARSON                         True           618\n",
       "MURDER                        True           334\n",
       "Name: FIRST_OCCURRENCE_DATE, dtype: int64"
      ]
     },
     "execution_count": 5,
     "metadata": {},
     "output_type": "execute_result"
    }
   ],
   "source": [
    "crime_df.groupby(['OFFENSE_CATEGORY_ID','IS_CRIME'])['FIRST_OCCURRENCE_DATE'].count().sort_values(ascending=False)"
   ]
  },
  {
   "cell_type": "code",
   "execution_count": 6,
   "metadata": {},
   "outputs": [
    {
     "name": "stdout",
     "output_type": "stream",
     "text": [
      "CRIME & TRAFFIC:  279\n",
      "CRIME, NOT TRAFFIC:  369396\n",
      "NOT CRIME, NOT TRAFFIC:  0\n"
     ]
    }
   ],
   "source": [
    "traffic_crime = (crime_df['IS_CRIME'] == True) & (crime_df['IS_TRAFFIC'] == True)\n",
    "other_crime = (crime_df['IS_CRIME'] == True) & (crime_df['IS_TRAFFIC'] != True)\n",
    "\n",
    "print('CRIME & TRAFFIC: ', traffic_crime.sum())\n",
    "print('CRIME, NOT TRAFFIC: ', other_crime.sum())\n",
    "print('NOT CRIME, NOT TRAFFIC: ', ((crime_df['IS_CRIME'] != True) & (crime_df['IS_TRAFFIC'] != True)).sum())\n",
    "\n",
    "traffic_df = crime_df[traffic_crime].copy()"
   ]
  },
  {
   "cell_type": "code",
   "execution_count": null,
   "metadata": {},
   "outputs": [],
   "source": []
  },
  {
   "cell_type": "code",
   "execution_count": null,
   "metadata": {},
   "outputs": [],
   "source": []
  }
 ],
 "metadata": {
  "kernelspec": {
   "display_name": "Python 3",
   "language": "python",
   "name": "python3"
  },
  "language_info": {
   "codemirror_mode": {
    "name": "ipython",
    "version": 3
   },
   "file_extension": ".py",
   "mimetype": "text/x-python",
   "name": "python",
   "nbconvert_exporter": "python",
   "pygments_lexer": "ipython3",
   "version": "3.7.7"
  },
  "toc": {
   "base_numbering": 1,
   "nav_menu": {},
   "number_sections": false,
   "sideBar": true,
   "skip_h1_title": false,
   "title_cell": "Table of Contents",
   "title_sidebar": "Contents",
   "toc_cell": false,
   "toc_position": {},
   "toc_section_display": true,
   "toc_window_display": false
  },
  "varInspector": {
   "cols": {
    "lenName": "50",
    "lenType": 16,
    "lenVar": 40
   },
   "kernels_config": {
    "python": {
     "delete_cmd_postfix": "",
     "delete_cmd_prefix": "del ",
     "library": "var_list.py",
     "varRefreshCmd": "print(var_dic_list())"
    },
    "r": {
     "delete_cmd_postfix": ") ",
     "delete_cmd_prefix": "rm(",
     "library": "var_list.r",
     "varRefreshCmd": "cat(var_dic_list()) "
    }
   },
   "types_to_exclude": [
    "module",
    "function",
    "builtin_function_or_method",
    "instance",
    "_Feature"
   ],
   "window_display": false
  }
 },
 "nbformat": 4,
 "nbformat_minor": 4
}
